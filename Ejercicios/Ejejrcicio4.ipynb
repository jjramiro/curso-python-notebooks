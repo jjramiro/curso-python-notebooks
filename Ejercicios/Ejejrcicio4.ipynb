{
 "cells": [
  {
   "cell_type": "markdown",
   "id": "a6f971b4-bbbd-41a0-bf7c-d26402505c68",
   "metadata": {},
   "source": [
    "# Ejercicio 4. colegio de 3 aulas."
   ]
  },
  {
   "cell_type": "markdown",
   "id": "2db1e57a-bc04-4366-a08b-f4a10bc531c0",
   "metadata": {},
   "source": [
    "### Enunciado\n",
    "3 aulas.\n",
    "\n",
    "1. insertar alumno --> en que aula quieres meter al alumno (1,2,3) --> DNI, nombre y apellidos.\n",
    "2. Mostrar alumnos colegio --> todos los alumnos del colegio por aula.\n",
    "3. Mostrar alumnos aula --> de que aula quieres mostrar los alumnos (1,2,3).\n",
    "4. Buscar alumno --> preguntar DNI --> en que aula se encuentra el alumno con ese DNI.\n",
    "5. Borrar alumno --> preguntar DNI --> borrar el alumno con ese DNI.\n",
    "6. Salir."
   ]
  },
  {
   "cell_type": "code",
   "execution_count": null,
   "id": "f4ccd9f8-d8fc-4f41-be62-44b3761e85db",
   "metadata": {},
   "outputs": [
    {
     "name": "stdout",
     "output_type": "stream",
     "text": [
      "1. Insertar alumno.\n",
      "2. Mostrar alumnos el colegio.\n",
      "3. Monstrar alumnos aula.\n",
      "4. buscar alumno.\n",
      "5. borrar alumno.\n",
      "6. Salir\n"
     ]
    },
    {
     "name": "stdin",
     "output_type": "stream",
     "text": [
      "Seleccione un número:  1\n",
      "Escribe en que aula quieres meter al alumno (1,2,3):  2\n",
      "Escribe el DNI del alumno:  1\n",
      "Escribe el nombre del alumno:  1\n",
      "Escribe los apellidos del alumno:  1\n"
     ]
    },
    {
     "name": "stdout",
     "output_type": "stream",
     "text": [
      "alumno inscrito con exito.\n",
      "1. Insertar alumno.\n",
      "2. Mostrar alumnos el colegio.\n",
      "3. Monstrar alumnos aula.\n",
      "4. buscar alumno.\n",
      "5. borrar alumno.\n",
      "6. Salir\n"
     ]
    },
    {
     "name": "stdin",
     "output_type": "stream",
     "text": [
      "Seleccione un número:  2\n"
     ]
    },
    {
     "name": "stdout",
     "output_type": "stream",
     "text": [
      "El aula está vacía\n",
      "*******************************\n",
      "aula 2: \n",
      "DNI 1\n",
      "nombre 1\n",
      "apellidos 1\n",
      "-------------------------------\n",
      "*******************************\n",
      "El aula está vacía\n",
      "*******************************\n",
      "1. Insertar alumno.\n",
      "2. Mostrar alumnos el colegio.\n",
      "3. Monstrar alumnos aula.\n",
      "4. buscar alumno.\n",
      "5. borrar alumno.\n",
      "6. Salir\n"
     ]
    },
    {
     "name": "stdin",
     "output_type": "stream",
     "text": [
      "Seleccione un número:  3\n",
      "Escribe el aula que quieres mostrar (1,2,3):  2\n"
     ]
    },
    {
     "name": "stdout",
     "output_type": "stream",
     "text": [
      "DNI 1\n",
      "nombre 1\n",
      "apellidos 1\n",
      "-------------------------------\n",
      "1. Insertar alumno.\n",
      "2. Mostrar alumnos el colegio.\n",
      "3. Monstrar alumnos aula.\n",
      "4. buscar alumno.\n",
      "5. borrar alumno.\n",
      "6. Salir\n"
     ]
    },
    {
     "name": "stdin",
     "output_type": "stream",
     "text": [
      "Seleccione un número:  4\n",
      "Escribe el DNI del alumno:  1\n"
     ]
    },
    {
     "name": "stdout",
     "output_type": "stream",
     "text": [
      "El alumno con el DNI1se encuentra en el aula2\n",
      "1. Insertar alumno.\n",
      "2. Mostrar alumnos el colegio.\n",
      "3. Monstrar alumnos aula.\n",
      "4. buscar alumno.\n",
      "5. borrar alumno.\n",
      "6. Salir\n"
     ]
    },
    {
     "name": "stdin",
     "output_type": "stream",
     "text": [
      "Seleccione un número:  5\n",
      "Escribe el DNI del alumno:  1\n"
     ]
    },
    {
     "name": "stdout",
     "output_type": "stream",
     "text": [
      "alumno eliminado\n",
      "1. Insertar alumno.\n",
      "2. Mostrar alumnos el colegio.\n",
      "3. Monstrar alumnos aula.\n",
      "4. buscar alumno.\n",
      "5. borrar alumno.\n",
      "6. Salir\n"
     ]
    },
    {
     "name": "stdin",
     "output_type": "stream",
     "text": [
      "Seleccione un número:  2\n"
     ]
    },
    {
     "name": "stdout",
     "output_type": "stream",
     "text": [
      "El aula está vacía\n",
      "*******************************\n",
      "El aula está vacía\n",
      "*******************************\n",
      "El aula está vacía\n",
      "*******************************\n",
      "1. Insertar alumno.\n",
      "2. Mostrar alumnos el colegio.\n",
      "3. Monstrar alumnos aula.\n",
      "4. buscar alumno.\n",
      "5. borrar alumno.\n",
      "6. Salir\n"
     ]
    }
   ],
   "source": [
    "room1 = []\n",
    "room2 = []\n",
    "room3 = []\n",
    "school = [room1, room2, room3]\n",
    "option = 0\n",
    "\n",
    "\n",
    "def insert_student():\n",
    "    room = input(\"Escribe en que aula quieres meter al alumno (1,2,3): \")\n",
    "    dni = input(\"Escribe el DNI del alumno: \")\n",
    "    name = input(\"Escribe el nombre del alumno: \")\n",
    "    surname = input(\"Escribe los apellidos del alumno: \")\n",
    "    if room == \"1\":\n",
    "        room1.append({\"DNI\":dni, \"nombre\":name, \"apellidos\":surname})\n",
    "        print(\"alumno inscrito con exito.\")\n",
    "    elif room == \"2\":\n",
    "        room2.append({\"DNI\":dni, \"nombre\":name, \"apellidos\":surname})\n",
    "        print(\"alumno inscrito con exito.\")\n",
    "    elif room == \"3\":\n",
    "        room3.append({\"DNI\":dni, \"nombre\":name, \"apellidos\":surname})\n",
    "        print(\"alumno inscrito con exito.\")\n",
    "    else:\n",
    "        print(\"Aula equivocada, intentelo de nuevo\")\n",
    "        \n",
    "def choose_room(room_number):\n",
    "    if (room_number == room1 or room_number == \"1\") and room1 != []:\n",
    "        if room_number == \"1\":\n",
    "            return room1\n",
    "        print(\"aula 1: \")\n",
    "    elif (room_number == room2 or room_number == \"2\") and room2 != []:\n",
    "        if room_number == \"2\":\n",
    "            return room2\n",
    "        print(\"aula 2: \")\n",
    "    elif (room_number == room3 or room_number == \"3\") and room3 != []:\n",
    "        if room_number == \"3\":\n",
    "            return room3\n",
    "        print(\"aula 3: \")\n",
    "\n",
    "    \n",
    "def show_student_room(room):\n",
    "    if str(room) == \"None\" or room == []:\n",
    "        print(\"El aula está vacía\")\n",
    "    else:\n",
    "        for student in room:\n",
    "            for key, value in student.items():\n",
    "                print(key, value)\n",
    "            print(\"-------------------------------\")\n",
    "    \n",
    "    \n",
    "def show_student():\n",
    "    for room in school:\n",
    "        choose_room(room)\n",
    "        show_student_room(room)\n",
    "        print(\"*******************************\")\n",
    "        \n",
    "def search_or_delete_kid(option):\n",
    "    dni = input(\"Escribe el DNI del alumno: \")\n",
    "    count = 0\n",
    "    for room in school:\n",
    "        count += 1\n",
    "        for student in room:\n",
    "            if dni in list(student.values()) and option == \"4\":\n",
    "                print(\"El alumno con el DNI \" + dni + \"se encuentra en el aula \" + str(count))\n",
    "            elif dni in list(student.values()) and option == \"5\":\n",
    "                room.remove(student)\n",
    "                print(\"alumno eliminado\")\n",
    "    \n",
    "while not option==\"6\":\n",
    "    print(\"1. Insertar alumno.\\n2. Mostrar alumnos del colegio.\\n3. Mostrar alumnos aula.\\n4. buscar alumno.\\n5. borrar alumno.\\n6. Salir\")\n",
    "    \n",
    "    option = input(\"Seleccione un número: \")\n",
    "    \n",
    "    if option == \"1\":\n",
    "        insert_student()\n",
    "    elif option == \"2\":\n",
    "        show_student()\n",
    "    elif option == \"3\":\n",
    "        choose = input(\"Escribe el aula que quieres mostrar (1,2,3): \")\n",
    "        choose = choose_room(choose)\n",
    "        show_student_room(choose)\n",
    "    elif option == \"4\":\n",
    "        search_or_delete_kid(option)\n",
    "    elif option == \"5\":\n",
    "        search_or_delete_kid(option)\n",
    "    else:\n",
    "        print(\"Adios. vuelva pronto!!\")\n",
    "    \n",
    "    "
   ]
  },
  {
   "cell_type": "code",
   "execution_count": null,
   "id": "77a89305-48b0-47ae-95d2-d679f28b2e71",
   "metadata": {},
   "outputs": [],
   "source": []
  }
 ],
 "metadata": {
  "kernelspec": {
   "display_name": "Python 3 (ipykernel)",
   "language": "python",
   "name": "python3"
  },
  "language_info": {
   "codemirror_mode": {
    "name": "ipython",
    "version": 3
   },
   "file_extension": ".py",
   "mimetype": "text/x-python",
   "name": "python",
   "nbconvert_exporter": "python",
   "pygments_lexer": "ipython3",
   "version": "3.9.13"
  }
 },
 "nbformat": 4,
 "nbformat_minor": 5
}
