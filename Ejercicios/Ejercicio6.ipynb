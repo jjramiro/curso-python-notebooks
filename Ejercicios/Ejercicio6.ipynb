{
 "cells": [
  {
   "cell_type": "markdown",
   "id": "428cd07d-5705-4543-8e1e-2758bacd0301",
   "metadata": {},
   "source": [
    "# Ejercicio 6. POO"
   ]
  },
  {
   "cell_type": "markdown",
   "id": "acd9a463-6c26-4726-8c5e-daaaedd090d3",
   "metadata": {},
   "source": [
    "**Crear la clase Alumno**  \n",
    "-nombre  \n",
    "-apellidos  \n",
    "-dni  \n",
    "-notas: diccionario <K:asignatura, V:nota>  \n",
    "estudiar() --> el alumno nombre esta estudiando asignatura obtenida de manera aleatoria del diccionario  \n",
    "    \n",
    "**    \n",
    "3 alumnos --> lista -->  \n",
    "    +Nota media de cada alumno --> El alumno nombre tiene una nota media de ...  \n",
    "    +Nota media de todos los alumnos --> La nota media de todos los alumnos es ...\n",
    "   \n",
    "Tradicional y usando funciones lambda"
   ]
  },
  {
   "cell_type": "code",
   "execution_count": 40,
   "id": "59386a09-410a-4c1c-b90c-59a808118e62",
   "metadata": {},
   "outputs": [],
   "source": [
    "from random import choice\n",
    "from functools import reduce\n",
    "\n",
    "class Student():\n",
    "    \n",
    "    def __init__(self, name, surname, dni, marks):\n",
    "        self.name = name\n",
    "        self.surname = surname\n",
    "        self.dni = dni\n",
    "        self.marks = marks\n",
    "        print(\"alumno creado con exito\")\n",
    "        \n",
    "    def study(self):\n",
    "        print(\"el alumno {} está estudiando {}\".format(self.name, choice(list(self.marks.keys()))))"
   ]
  },
  {
   "cell_type": "code",
   "execution_count": 41,
   "id": "7c8efe59-5186-49b3-ba32-3f6f00a7c46d",
   "metadata": {},
   "outputs": [
    {
     "name": "stdout",
     "output_type": "stream",
     "text": [
      "alumno creado con exito\n",
      "alumno creado con exito\n",
      "alumno creado con exito\n",
      "el alumno Marco está estudiando mates\n",
      "las notas medias de cada estudiante en normal son: [6.0, 7.666666666666667, 4.0]\n",
      "las notas medias de cada estudiante en lambda son: [6.0, 7.666666666666667, 4.0]\n",
      "la nota media de los alumnos en total es: 5.888888888888889\n",
      "la nota media de los alumnos en total es: 5.888888888888889\n"
     ]
    }
   ],
   "source": [
    "student1 = Student(\"Ace\", \"Hiken\", \"12345678A\", {\"mates\": 3, \"lengua\": 6, \"navegación\": 9})\n",
    "student2 = Student(\"Marco\", \"Phoenix\", \"12345678M\", {\"mates\": 8, \"lengua\": 7, \"navegación\": 8})\n",
    "student3 = Student(\"Jozu\", \"Diamond\", \"12345678J\", {\"mates\": 2, \"lengua\": 4, \"navegación\": 6})\n",
    "room = [student1, student2, student3]\n",
    "student2.study()\n",
    "\n",
    "# Sacamos la nota media de cada alumno y la guardamos en una lista de dos maneras distintas, una con lambda la otra normal\n",
    "#forma normal\n",
    "normal_mean = []\n",
    "for student in room:\n",
    "    normal_mean.append(sum(student.marks.values())/3)\n",
    "print(f\"las notas medias de cada estudiante en normal son: {normal_mean}\")\n",
    "#forma lambda\n",
    "lambda_mean = list(map(lambda student: sum(student.marks.values())/3, room))\n",
    "print(f\"las notas medias de cada estudiante en lambda son: {lambda_mean}\")\n",
    "\n",
    "# Sacamos la nota media de todos los alumnos de la clase de manera normal y con funciones lambda\n",
    "# forma normal\n",
    "normal_total_mean = sum(normal_mean)/3\n",
    "print(\"la nota media de los alumnos en total es: \" + str(normal_total_mean))\n",
    "#forma lambda\n",
    "lambda_total_mean = sum(list(map(lambda mark: mark, lambda_mean)))/3\n",
    "print(\"la nota media de los alumnos en total es: \" + str(lambda_total_mean))"
   ]
  }
 ],
 "metadata": {
  "kernelspec": {
   "display_name": "Python 3 (ipykernel)",
   "language": "python",
   "name": "python3"
  },
  "language_info": {
   "codemirror_mode": {
    "name": "ipython",
    "version": 3
   },
   "file_extension": ".py",
   "mimetype": "text/x-python",
   "name": "python",
   "nbconvert_exporter": "python",
   "pygments_lexer": "ipython3",
   "version": "3.9.13"
  }
 },
 "nbformat": 4,
 "nbformat_minor": 5
}
