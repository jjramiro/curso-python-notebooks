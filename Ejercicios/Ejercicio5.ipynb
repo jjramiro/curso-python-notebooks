{
 "cells": [
  {
   "cell_type": "markdown",
   "id": "6b04ad08-135e-4d12-9f6a-d6f5e0d78360",
   "metadata": {},
   "source": [
    "# Ejercicio 5. funciones lambda"
   ]
  },
  {
   "cell_type": "markdown",
   "id": "5a53bc95-c8e2-4770-bb43-f6a4fa4b85b5",
   "metadata": {},
   "source": [
    "A partir del siguiente listado de emails:\n",
    "lista_emails = [\"asdasdas.es\",\"asdas asdsdsa@sda.e\",\"asdasd@asdas@asdsad.es\", \"asdad@a.es\", \"a sgsdfsd@a.esfa.sfasdf\", \"asdas.dasd@as.dsfd.as.es \"]\n",
    "- obtener, los nombres de usuario de aquellos emails que sean validos (valido: 1@, no tiene espacios en blanco, despues de la @ hay 1 punto)\n",
    "- indicar el número de emails validos que hay dentro del listado"
   ]
  },
  {
   "cell_type": "code",
   "execution_count": 23,
   "id": "df36afa2-96ac-4076-8d57-5badcdf8e621",
   "metadata": {},
   "outputs": [
    {
     "name": "stdout",
     "output_type": "stream",
     "text": [
      "[1, 1]\n",
      "Listado de nombres de usuario : ['asdad', 'asdas.dasd'] | el número de email validos es: 2 | el número de email validos con reduce es: 2 | el número de email validos con sum es: 2\n",
      "\n",
      "\n"
     ]
    }
   ],
   "source": [
    "from functools import reduce\n",
    "\n",
    "lista_emails = [\"asdasdas.es\",\"asdas asdsdsa@sda.e\",\"asdasd@asdas@asdsad.es\", \"asdad@a.es\", \"a sgsdfsd@a.esfa.sfasdf\", \"asdas.dasd@as.dsfd.as.es \"]\n",
    "\n",
    "# cogemos todos aquellos emails que tengan una @, que no tengan espacios en blanco y que despues de la @ haya un punto\n",
    "lista_emails = list(map(lambda email: email.strip(), lista_emails))\n",
    "email_correct_1 = list(filter(lambda email: email.count('@') == 1, lista_emails))\n",
    "email_correct_2 = list(filter(lambda email: email.split('@')[1].count('.') > 0, email_correct_1))\n",
    "email_correct_definitive = list(filter(lambda email: email.count(' ') == 0, email_correct_2))\n",
    "\n",
    "#sacamos los nombres de usuario mediante los correos validos dados y el numero de emails correctos\n",
    "user_names = list(map(lambda user: user.split('@')[0], email_correct_definitive))\n",
    "num_email_correct = len(email_correct_definitive)\n",
    "# sacamos el numero de emails correctos y sumanod uno al final porque la posicion empieza en 0\n",
    "num_email_reduce = reduce((lambda first, second: email_correct_definitive.index(first) + email_correct_definitive.index(second)), email_correct_definitive) + 1\n",
    "num_email_sum_ = sum(list(map(lambda element: 1, email_correct_definitive)))\n",
    "\n",
    "# escribimos los dos resultados\n",
    "print(f'Listado de nombres de usuario : {user_names} | el número de email validos es: {num_email_correct} | el número de email validos con reduce es: {num_email_reduce} | el número de email validos con sum es: {num_email_sum_}\\n\\n')\n"
   ]
  }
 ],
 "metadata": {
  "kernelspec": {
   "display_name": "Python 3 (ipykernel)",
   "language": "python",
   "name": "python3"
  },
  "language_info": {
   "codemirror_mode": {
    "name": "ipython",
    "version": 3
   },
   "file_extension": ".py",
   "mimetype": "text/x-python",
   "name": "python",
   "nbconvert_exporter": "python",
   "pygments_lexer": "ipython3",
   "version": "3.9.13"
  }
 },
 "nbformat": 4,
 "nbformat_minor": 5
}
