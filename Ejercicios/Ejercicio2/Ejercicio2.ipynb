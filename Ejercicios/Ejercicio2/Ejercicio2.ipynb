{
 "cells": [
  {
   "cell_type": "markdown",
   "metadata": {},
   "source": [
    "## Ejercicio2. Pintar cuadrado"
   ]
  },
  {
   "cell_type": "markdown",
   "metadata": {},
   "source": [
    "Pintar menu mientras que la opcion sea diferente de 4.\n",
    "\n",
    "1. Pintar cuadrado --> \n",
    "pregunta: \n",
    "indicar tamaño cuadrado: valor el usado para la base y la altura del cuadrado  \n",
    "\n",
    "O O O O  \n",
    "O     O  \n",
    "O     O  \n",
    "O O O O\n",
    "\n",
    "2. Validar email --> \"Has seleccionado la opcion 2\"\n",
    "3. Insertar alumnos --> \"Has seleccionado la opcion 3\"\n",
    "4. Salir --> \"Has seleccionado la opcion 4. Adios!\"\n",
    "\n",
    "Ótra opcion --> opcion incorrecta \n",
    "\n",
    "Seleccione una opcion:\n"
   ]
  },
  {
   "cell_type": "code",
   "execution_count": null,
   "metadata": {},
   "outputs": [
    {
     "name": "stdout",
     "output_type": "stream",
     "text": [
      "1. Pintar cuadrado.\n",
      "2. Validar email.\n",
      "3. Insertar alumnos.\n",
      "4. Salir.\n",
      "\n"
     ]
    },
    {
     "name": "stdin",
     "output_type": "stream",
     "text": [
      "Seleccione un número:  1\n"
     ]
    },
    {
     "name": "stdout",
     "output_type": "stream",
     "text": [
      "Has seleccionado la opcion 1.\n",
      "\n"
     ]
    },
    {
     "name": "stdin",
     "output_type": "stream",
     "text": [
      "Seleccione el tamaño del cuadrado:  60\n",
      "Seleccione el caracter deseado:  +\n"
     ]
    },
    {
     "name": "stdout",
     "output_type": "stream",
     "text": [
      "+ + + + + + + + + + + + + + + + + + + + + + + + + + + + + + + + + + + + + + + + + + + + + + + + + + + + + + + + + + + + \n",
      "+                                                                                                                     +\n",
      "+                                                                                                                     +\n",
      "+                                                                                                                     +\n",
      "+                                                                                                                     +\n",
      "+                                                                                                                     +\n",
      "+                                                                                                                     +\n",
      "+                                                                                                                     +\n",
      "+                                                                                                                     +\n",
      "+                                                                                                                     +\n",
      "+                                                                                                                     +\n",
      "+                                                                                                                     +\n",
      "+                                                                                                                     +\n",
      "+                                                                                                                     +\n",
      "+                                                                                                                     +\n",
      "+                                                                                                                     +\n",
      "+                                                                                                                     +\n",
      "+                                                                                                                     +\n",
      "+                                                                                                                     +\n",
      "+                                                                                                                     +\n",
      "+                                                                                                                     +\n",
      "+                                                                                                                     +\n",
      "+                                                                                                                     +\n",
      "+                                                                                                                     +\n",
      "+                                                                                                                     +\n",
      "+                                                                                                                     +\n",
      "+                                                                                                                     +\n",
      "+                                                                                                                     +\n",
      "+                                                                                                                     +\n",
      "+                                                                                                                     +\n",
      "+                                                                                                                     +\n",
      "+                                                                                                                     +\n",
      "+                                                                                                                     +\n",
      "+                                                                                                                     +\n",
      "+                                                                                                                     +\n",
      "+                                                                                                                     +\n",
      "+                                                                                                                     +\n",
      "+                                                                                                                     +\n",
      "+                                                                                                                     +\n",
      "+                                                                                                                     +\n",
      "+                                                                                                                     +\n",
      "+                                                                                                                     +\n",
      "+                                                                                                                     +\n",
      "+                                                                                                                     +\n",
      "+                                                                                                                     +\n",
      "+                                                                                                                     +\n",
      "+                                                                                                                     +\n",
      "+                                                                                                                     +\n",
      "+                                                                                                                     +\n",
      "+                                                                                                                     +\n",
      "+                                                                                                                     +\n",
      "+                                                                                                                     +\n",
      "+                                                                                                                     +\n",
      "+                                                                                                                     +\n",
      "+                                                                                                                     +\n",
      "+                                                                                                                     +\n",
      "+                                                                                                                     +\n",
      "+                                                                                                                     +\n",
      "+                                                                                                                     +\n",
      "+ + + + + + + + + + + + + + + + + + + + + + + + + + + + + + + + + + + + + + + + + + + + + + + + + + + + + + + + + + + + \n",
      "1. Pintar cuadrado.\n",
      "2. Validar email.\n",
      "3. Insertar alumnos.\n",
      "4. Salir.\n",
      "\n"
     ]
    }
   ],
   "source": [
    "'''\n",
    "    En este ejercicio se plantea un menú de opciones \n",
    "    en el que te imprime por pantalla la selección hecha,\n",
    "    excepto si es la número 1 que dibuja un cuadrado con el caracter deseado.\n",
    "'''\n",
    "\n",
    "option = 0\n",
    "\n",
    "while not option==\"4\":\n",
    "    print(\"1. Pintar cuadrado.\\n2. Validar email.\\n3. Insertar alumnos.\\n4. Salir.\\n\")\n",
    "    \n",
    "    option = input(\"Seleccione un número: \")\n",
    "    \n",
    "    if option == \"1\":\n",
    "        print(\"Has seleccionado la opcion 1.\\n\")\n",
    "        square_size = int(input(\"Seleccione el tamaño del cuadrado: \"))\n",
    "        character = input(\"Seleccione el caracter deseado: \")\n",
    "        print(square_size*(character+' '))\n",
    "        for index in range(square_size-2):\n",
    "            print(character+(' '*(len(square_size*(character+' '))-3))+character)\n",
    "        print(square_size*(character+' '))\n",
    "    elif option == \"2\":\n",
    "        print(\"Has seleccionado la opcion 2.\\n\")\n",
    "    elif option == \"3\":\n",
    "        print(\"Has seleccionado la opcion 3.\\n\")\n",
    "    elif option == \"4\":\n",
    "        print(\"Has seleccionado la opcion 4. Adios!!\\n\")\n",
    "    else:\n",
    "        print(\"Opción erronea, intente de nuevo.\")"
   ]
  },
  {
   "cell_type": "code",
   "execution_count": 7,
   "metadata": {},
   "outputs": [
    {
     "name": "stdout",
     "output_type": "stream",
     "text": [
      "\n",
      "1. Pintar cuadrado\n",
      "2. Validar email\n",
      "3. Insertar Alumnos\n",
      "4. Salir\n"
     ]
    },
    {
     "name": "stdin",
     "output_type": "stream",
     "text": [
      "\n",
      "Seleccione una opcion 1\n",
      "\n",
      "Indica tamaño altura 5\n",
      "\n",
      "Indica tamaño base 3\n"
     ]
    },
    {
     "name": "stdout",
     "output_type": "stream",
     "text": [
      "***\n",
      "* *\n",
      "* *\n",
      "* *\n",
      "***\n",
      "\n",
      "1. Pintar cuadrado\n",
      "2. Validar email\n",
      "3. Insertar Alumnos\n",
      "4. Salir\n"
     ]
    },
    {
     "name": "stdin",
     "output_type": "stream",
     "text": [
      "\n",
      "Seleccione una opcion 4\n"
     ]
    },
    {
     "name": "stdout",
     "output_type": "stream",
     "text": [
      "Has seleccionado la opcion 4. Adios!!!\n"
     ]
    }
   ],
   "source": [
    "opcion = 0\n",
    "while (not opcion==4):\n",
    "    #print(\"1. Pintar cuadrado\\n2. Validar email\\n3. Insertar Alumnos\\n4. Salir\")\n",
    "    print(\"\\n1. Pintar cuadrado\")\n",
    "    print(\"2. Validar email\")\n",
    "    print(\"3. Insertar Alumnos\")\n",
    "    print(\"4. Salir\")\n",
    "    \n",
    "    opcion = int(input(\"\\nSeleccione una opcion\"))\n",
    "    \n",
    "    texto = \"Has seleccionado la opcion \"\n",
    "    if opcion==1:\n",
    "        caracter = \"*\"\n",
    "        altura = int(input(\"\\nIndica tamaño altura\"))\n",
    "        base = int(input(\"\\nIndica tamaño base\"))\n",
    "        for linea in range(altura):\n",
    "            if(linea==0 or linea == altura-1):\n",
    "                print(base*caracter)\n",
    "            else:\n",
    "                print(caracter, end = \"\")\n",
    "                cadena = \" \" * (base-2)\n",
    "                print(cadena, end=\"\")\n",
    "                print(caracter)\n",
    "                \n",
    "        \n",
    "    elif opcion==2:\n",
    "        print(texto + \"2\")\n",
    "    elif opcion==3:\n",
    "        print(texto + \"3\")\n",
    "    elif opcion==4:\n",
    "        print(texto + \"4. Adios!!!\")\n",
    "    else:\n",
    "        print(\"Opcion incorrecta, vuelve a intentarlo\")\n",
    "    \n",
    "    \n",
    "    "
   ]
  }
 ],
 "metadata": {
  "kernelspec": {
   "display_name": "Python 3 (ipykernel)",
   "language": "python",
   "name": "python3"
  },
  "language_info": {
   "codemirror_mode": {
    "name": "ipython",
    "version": 3
   },
   "file_extension": ".py",
   "mimetype": "text/x-python",
   "name": "python",
   "nbconvert_exporter": "python",
   "pygments_lexer": "ipython3",
   "version": "3.9.13"
  }
 },
 "nbformat": 4,
 "nbformat_minor": 4
}
